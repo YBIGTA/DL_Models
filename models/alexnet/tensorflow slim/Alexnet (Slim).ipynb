{
 "cells": [
  {
   "cell_type": "markdown",
   "metadata": {},
   "source": [
    "<h1><center>Alexnet Architecture (Tensorflow)</center></h1>"
   ]
  },
  {
   "cell_type": "markdown",
   "metadata": {},
   "source": [
    "<img src=\"image/alexnet_model.png\">"
   ]
  },
  {
   "cell_type": "code",
   "execution_count": 1,
   "metadata": {},
   "outputs": [
    {
     "name": "stderr",
     "output_type": "stream",
     "text": [
      "C:\\Users\\user\\Anaconda3\\Anaconda\\lib\\site-packages\\h5py\\__init__.py:34: FutureWarning: Conversion of the second argument of issubdtype from `float` to `np.floating` is deprecated. In future, it will be treated as `np.float64 == np.dtype(float).type`.\n",
      "  from ._conv import register_converters as _register_converters\n"
     ]
    }
   ],
   "source": [
    "import tensorflow as tf\n",
    "import tensorflow.contrib.slim as slim\n",
    "import numpy as np"
   ]
  },
  {
   "cell_type": "code",
   "execution_count": 2,
   "metadata": {
    "collapsed": true
   },
   "outputs": [],
   "source": [
    "# image size\n",
    "\n",
    "height = 227\n",
    "width = 227\n",
    "num_of_channels = 3\n",
    "num_of_classes = 1000\n",
    "\n",
    "keep_prob = 0.5"
   ]
  },
  {
   "cell_type": "code",
   "execution_count": 3,
   "metadata": {
    "collapsed": true
   },
   "outputs": [],
   "source": [
    "image = tf.placeholder(tf.float32, [None, height, width, num_of_channels])"
   ]
  },
  {
   "cell_type": "code",
   "execution_count": 4,
   "metadata": {
    "collapsed": true
   },
   "outputs": [],
   "source": [
    "def tensor_info(tensor):\n",
    "    print(tensor.name + \" / shape = \" + str(tensor.shape))"
   ]
  },
  {
   "cell_type": "code",
   "execution_count": 5,
   "metadata": {
    "collapsed": true
   },
   "outputs": [],
   "source": [
    "def alexnet(image, num_of_classes, keep_prob):\n",
    "    \n",
    "    \"Conv Layers\"\n",
    "    print(\"------------------- Conv Layer -------------------\")\n",
    "    \n",
    "    conv1 = slim.conv2d(image, 96, kernel_size = 11, stride = 4, padding = 'VALID')\n",
    "    tensor_info(conv1)\n",
    "    \n",
    "    conv2 = slim.conv2d(conv1, 256, kernel_size = 5, stride= 1, padding = 'SAME')\n",
    "    pool2 = slim.max_pool2d(conv2, [3, 3], stride = 2, padding = 'VALID')\n",
    "    tensor_info(pool2)\n",
    "    \n",
    "    conv3 = slim.conv2d(pool2, 384, kernel_size = 3, stride = 1, padding = 'SAME')\n",
    "    pool3 = slim.max_pool2d(conv3, [3, 3], stride = 2, padding = 'VALID')\n",
    "    tensor_info(pool3)\n",
    "    \n",
    "    conv4 = slim.conv2d(pool3, 384, kernel_size = 3, stride = 1, padding = 'SAME')\n",
    "    tensor_info(conv4)\n",
    "    \n",
    "    conv5 = slim.conv2d(conv4, 256, kernel_size = 3, stride= 1, padding = 'SAME')\n",
    "    pool5 = slim.max_pool2d(conv5, [3, 3], stride = 2, padding = 'VALID')\n",
    "    tensor_info(pool5)\n",
    "    \n",
    "    \n",
    "    \"Flatten\"\n",
    "    print(\"-------------------- FC Layer --------------------\")\n",
    "    \n",
    "    flatten = slim.flatten(pool5)\n",
    "    tensor_info(flatten)\n",
    "    \n",
    "    \"Fully Conncected\"\n",
    "    fc1 = slim.fully_connected(flatten, 4096)\n",
    "    fc1 = slim.dropout(fc1, keep_prob)\n",
    "    tensor_info(fc1)\n",
    "    \n",
    "    fc2 = slim.fully_connected(fc1, 4096)\n",
    "    fc2 = slim.dropout(fc2, keep_prob)\n",
    "    tensor_info(fc2)\n",
    "    \n",
    "    fc3 = slim.fully_connected(fc2, num_of_classes)\n",
    "    tensor_info(fc3)\n",
    "    \n",
    "    return fc3"
   ]
  },
  {
   "cell_type": "code",
   "execution_count": 6,
   "metadata": {},
   "outputs": [
    {
     "name": "stdout",
     "output_type": "stream",
     "text": [
      "------------------- Conv Layer -------------------\n",
      "Conv/Relu:0 / shape = (?, 55, 55, 96)\n",
      "MaxPool2D/MaxPool:0 / shape = (?, 27, 27, 256)\n",
      "MaxPool2D_1/MaxPool:0 / shape = (?, 13, 13, 384)\n",
      "Conv_3/Relu:0 / shape = (?, 13, 13, 384)\n",
      "MaxPool2D_2/MaxPool:0 / shape = (?, 6, 6, 256)\n",
      "-------------------- FC Layer --------------------\n",
      "Flatten/Reshape:0 / shape = (?, 9216)\n",
      "Dropout/dropout/mul:0 / shape = (?, 4096)\n",
      "Dropout_1/dropout/mul:0 / shape = (?, 4096)\n",
      "fully_connected_2/Relu:0 / shape = (?, 1000)\n"
     ]
    }
   ],
   "source": [
    "alexnet = alexnet(image, num_of_classes, keep_prob)"
   ]
  },
  {
   "cell_type": "code",
   "execution_count": 7,
   "metadata": {},
   "outputs": [
    {
     "name": "stdout",
     "output_type": "stream",
     "text": [
      "Number of Weights : 62,378,344\n"
     ]
    }
   ],
   "source": [
    "total_parameters = np.sum([np.prod(var.get_shape().as_list()) for var in tf.trainable_variables()])\n",
    "print(\"Number of Weights : \" + format(total_parameters, ','))"
   ]
  }
 ],
 "metadata": {
  "kernelspec": {
   "display_name": "Python 3",
   "language": "python",
   "name": "python3"
  },
  "language_info": {
   "codemirror_mode": {
    "name": "ipython",
    "version": 3
   },
   "file_extension": ".py",
   "mimetype": "text/x-python",
   "name": "python",
   "nbconvert_exporter": "python",
   "pygments_lexer": "ipython3",
   "version": "3.6.3"
  }
 },
 "nbformat": 4,
 "nbformat_minor": 2
}
