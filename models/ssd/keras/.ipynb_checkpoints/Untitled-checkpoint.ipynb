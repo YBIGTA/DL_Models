{
 "cells": [
  {
   "cell_type": "code",
   "execution_count": 1,
   "metadata": {},
   "outputs": [
    {
     "name": "stderr",
     "output_type": "stream",
     "text": [
      "/Users/user/anaconda3/envs/ml_py36/lib/python3.6/site-packages/h5py/__init__.py:36: FutureWarning: Conversion of the second argument of issubdtype from `float` to `np.floating` is deprecated. In future, it will be treated as `np.float64 == np.dtype(float).type`.\n",
      "  from ._conv import register_converters as _register_converters\n",
      "Using TensorFlow backend.\n"
     ]
    }
   ],
   "source": [
    "from ssd_model import SSD"
   ]
  },
  {
   "cell_type": "code",
   "execution_count": 2,
   "metadata": {},
   "outputs": [],
   "source": [
    "NUM_CLASSES = 4\n",
    "input_shape = (300, 300, 3)"
   ]
  },
  {
   "cell_type": "code",
   "execution_count": null,
   "metadata": {},
   "outputs": [
    {
     "name": "stderr",
     "output_type": "stream",
     "text": [
      "/Users/user/Documents/Gongbu/DL_Models/models/ssd/keras/ssd_model.py:17: UserWarning: Update your `Conv2D` call to the Keras 2 API: `Conv2D(64, (3, 3), activation=\"relu\")`\n",
      "  activation='relu')(model['in'])\n",
      "/Users/user/Documents/Gongbu/DL_Models/models/ssd/keras/ssd_model.py:19: UserWarning: Update your `Conv2D` call to the Keras 2 API: `Conv2D(64, (3, 3), activation=\"relu\")`\n",
      "  activation='relu')(model['conv1.1'])\n",
      "/Users/user/Documents/Gongbu/DL_Models/models/ssd/keras/ssd_model.py:24: UserWarning: Update your `Conv2D` call to the Keras 2 API: `Conv2D(128, (3, 3), activation=\"relu\")`\n",
      "  activation='relu')(model['pool1'])\n",
      "/Users/user/Documents/Gongbu/DL_Models/models/ssd/keras/ssd_model.py:26: UserWarning: Update your `Conv2D` call to the Keras 2 API: `Conv2D(128, (3, 3), activation=\"relu\")`\n",
      "  activation='relu')(model['conv2.1'])\n",
      "/Users/user/Documents/Gongbu/DL_Models/models/ssd/keras/ssd_model.py:31: UserWarning: Update your `Conv2D` call to the Keras 2 API: `Conv2D(256, (3, 3), activation=\"relu\")`\n",
      "  activation='relu')(model['pool2'])\n",
      "/Users/user/Documents/Gongbu/DL_Models/models/ssd/keras/ssd_model.py:33: UserWarning: Update your `Conv2D` call to the Keras 2 API: `Conv2D(256, (3, 3), activation=\"relu\")`\n",
      "  activation='relu')(model['conv3.1'])\n",
      "/Users/user/Documents/Gongbu/DL_Models/models/ssd/keras/ssd_model.py:38: UserWarning: Update your `Conv2D` call to the Keras 2 API: `Conv2D(512, (3, 3), activation=\"relu\")`\n",
      "  activation='relu')(model['pool3'])\n",
      "/Users/user/Documents/Gongbu/DL_Models/models/ssd/keras/ssd_model.py:40: UserWarning: Update your `Conv2D` call to the Keras 2 API: `Conv2D(512, (3, 3), activation=\"relu\")`\n",
      "  activation='relu')(model['conv4.1'])\n",
      "/Users/user/Documents/Gongbu/DL_Models/models/ssd/keras/ssd_model.py:45: UserWarning: Update your `Conv2D` call to the Keras 2 API: `Conv2D(512, (3, 3), activation=\"relu\")`\n",
      "  activation='relu')(model['pool4'])\n",
      "/Users/user/Documents/Gongbu/DL_Models/models/ssd/keras/ssd_model.py:47: UserWarning: Update your `Conv2D` call to the Keras 2 API: `Conv2D(512, (3, 3), activation=\"relu\")`\n",
      "  activation='relu')(model['conv5.1'])\n",
      "/Users/user/Documents/Gongbu/DL_Models/models/ssd/keras/ssd_model.py:52: UserWarning: Update your `Conv2D` call to the Keras 2 API: `Conv2D(1024, (3, 3), activation=\"relu\")`\n",
      "  activation='relu')(model['conv5.2'])\n",
      "/Users/user/Documents/Gongbu/DL_Models/models/ssd/keras/ssd_model.py:54: UserWarning: Update your `Conv2D` call to the Keras 2 API: `Conv2D(1024, (1, 1), activation=\"relu\")`\n",
      "  activation='relu')(model['fc1'])\n",
      "/Users/user/Documents/Gongbu/DL_Models/models/ssd/keras/ssd_model.py:57: UserWarning: Update your `Conv2D` call to the Keras 2 API: `Conv2D(256, (1, 1), activation=\"relu\")`\n",
      "  activation='relu')(model['fc2'])\n",
      "/Users/user/Documents/Gongbu/DL_Models/models/ssd/keras/ssd_model.py:59: UserWarning: Update your `Conv2D` call to the Keras 2 API: `Conv2D(512, (3, 3), activation=\"relu\")`\n",
      "  activation='relu')(model['conv6.1'])\n",
      "/Users/user/Documents/Gongbu/DL_Models/models/ssd/keras/ssd_model.py:62: UserWarning: Update your `Conv2D` call to the Keras 2 API: `Conv2D(128, (1, 1), activation=\"relu\")`\n",
      "  activation='relu')(model['conv6.2'])\n",
      "/Users/user/Documents/Gongbu/DL_Models/models/ssd/keras/ssd_model.py:64: UserWarning: Update your `Conv2D` call to the Keras 2 API: `Conv2D(256, (3, 3), activation=\"relu\")`\n",
      "  activation='relu')(model['conv7.1'])\n",
      "/Users/user/Documents/Gongbu/DL_Models/models/ssd/keras/ssd_model.py:67: UserWarning: Update your `Conv2D` call to the Keras 2 API: `Conv2D(128, (1, 1), activation=\"relu\")`\n",
      "  activation='relu')(model['conv7.2'])\n",
      "/Users/user/Documents/Gongbu/DL_Models/models/ssd/keras/ssd_model.py:69: UserWarning: Update your `Conv2D` call to the Keras 2 API: `Conv2D(256, (3, 3), activation=\"relu\")`\n",
      "  activation='relu')(model['conv8.1'])\n",
      "/Users/user/Documents/Gongbu/DL_Models/models/ssd/keras/ssd_model.py:78: UserWarning: Update your `Conv2D` call to the Keras 2 API: `Conv2D(12, (3, 3))`\n",
      "  x = Conv2D(num_priors * 4, 3, 3)(model['conv4.2_norm'])\n",
      "/Users/user/Documents/Gongbu/DL_Models/models/ssd/keras/ssd_model.py:81: UserWarning: Update your `Conv2D` call to the Keras 2 API: `Conv2D(12, (3, 3))`\n",
      "  x = Conv2D(num_priors * num_classes, 3, 3)(model['conv4.2_norm'])\n",
      "/Users/user/Documents/Gongbu/DL_Models/models/ssd/keras/ssd_model.py:90: UserWarning: Update your `Conv2D` call to the Keras 2 API: `Conv2D(24, (3, 3))`\n",
      "  model['fc2_loc'] = Conv2D(num_priors*4, 3, 3)(model['fc2'])\n",
      "/Users/user/Documents/Gongbu/DL_Models/models/ssd/keras/ssd_model.py:93: UserWarning: Update your `Conv2D` call to the Keras 2 API: `Conv2D(24, (3, 3))`\n",
      "  model['fc2_conf'] = Conv2D(num_priors*num_classes, 3, 3)(model['fc2'])\n",
      "/Users/user/Documents/Gongbu/DL_Models/models/ssd/keras/ssd_model.py:102: UserWarning: Update your `Conv2D` call to the Keras 2 API: `Conv2D(24, (3, 3))`\n",
      "  model['conv6.2_loc'] = Conv2D(num_priors*4, 3, 3)(model['conv6.2'])\n",
      "/Users/user/Documents/Gongbu/DL_Models/models/ssd/keras/ssd_model.py:105: UserWarning: Update your `Conv2D` call to the Keras 2 API: `Conv2D(24, (3, 3))`\n",
      "  model['conv6.2_conf'] = Conv2D(num_priors*num_classes, 3, 3)(model['conv6.2'])\n",
      "/Users/user/Documents/Gongbu/DL_Models/models/ssd/keras/ssd_model.py:114: UserWarning: Update your `Conv2D` call to the Keras 2 API: `Conv2D(24, (3, 3))`\n",
      "  model['conv7.2_loc'] = Conv2D(num_priors*4, 3, 3)(model['conv7.2'])\n"
     ]
    }
   ],
   "source": [
    "model = SSD(input_shape=input_shape, num_classes=NUM_CLASSES)"
   ]
  }
 ],
 "metadata": {
  "kernelspec": {
   "display_name": "Python 3",
   "language": "python",
   "name": "python3"
  },
  "language_info": {
   "codemirror_mode": {
    "name": "ipython",
    "version": 3
   },
   "file_extension": ".py",
   "mimetype": "text/x-python",
   "name": "python",
   "nbconvert_exporter": "python",
   "pygments_lexer": "ipython3",
   "version": "3.6.5"
  }
 },
 "nbformat": 4,
 "nbformat_minor": 2
}
