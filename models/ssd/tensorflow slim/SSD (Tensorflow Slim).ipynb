{
 "cells": [
  {
   "cell_type": "markdown",
   "metadata": {},
   "source": [
    "<center><h2>SSD : Single Shot Multibox Detection</h2></center>"
   ]
  },
  {
   "cell_type": "code",
   "execution_count": 1,
   "metadata": {},
   "outputs": [
    {
     "name": "stderr",
     "output_type": "stream",
     "text": [
      "C:\\Users\\user\\Anaconda3\\Anaconda\\lib\\site-packages\\h5py\\__init__.py:34: FutureWarning: Conversion of the second argument of issubdtype from `float` to `np.floating` is deprecated. In future, it will be treated as `np.float64 == np.dtype(float).type`.\n",
      "  from ._conv import register_converters as _register_converters\n"
     ]
    }
   ],
   "source": [
    "import tensorflow as tf\n",
    "import numpy as np\n",
    "import tensorflow.contrib.slim as slim"
   ]
  },
  {
   "cell_type": "code",
   "execution_count": 2,
   "metadata": {
    "collapsed": true
   },
   "outputs": [],
   "source": [
    "# image size\n",
    "\n",
    "height = 300\n",
    "width = 300\n",
    "num_of_channels = 3\n",
    "num_of_classes = 21          # on Pascal VOC 2007\n",
    "\n",
    "\n",
    "l2_penalty = 1e-8"
   ]
  },
  {
   "cell_type": "code",
   "execution_count": 3,
   "metadata": {
    "collapsed": true
   },
   "outputs": [],
   "source": [
    "image = tf.placeholder(tf.float32, shape = [None, height, width, num_of_channels])"
   ]
  },
  {
   "cell_type": "code",
   "execution_count": 4,
   "metadata": {
    "collapsed": true
   },
   "outputs": [],
   "source": [
    "def tensor_info(tensor):\n",
    "    print(format(tensor.name, '^23') + format(\" |   shape = \" + str(tensor.shape), '^20'))"
   ]
  },
  {
   "cell_type": "code",
   "execution_count": 5,
   "metadata": {
    "collapsed": true
   },
   "outputs": [],
   "source": [
    "def ssd(image, num_of_classes, l2_penalty):\n",
    "    \n",
    "    \"Conv Layers\"\n",
    "    print(\"--------------------- Conv Layers ---------------------\")\n",
    "    conv1 = slim.conv2d(image, 64, [3, 3], scope = 'conv1_1')\n",
    "    conv1 = slim.conv2d(conv1, 64, [3, 3], scope = 'conv1_2')\n",
    "    tensor_info(conv1)\n",
    "    pool1 = slim.max_pool2d(conv1, [2, 2], scope = 'pool1', padding = 'SAME') \n",
    "    tensor_info(pool1)\n",
    "    \n",
    "    conv2 = slim.repeat(pool1, 2, slim.conv2d, 128, [3, 3], scope = 'conv2')\n",
    "    tensor_info(conv2)\n",
    "    pool2 = slim.max_pool2d(conv2, [2, 2], scope = 'pool2')\n",
    "    tensor_info(pool2)\n",
    "    \n",
    "    conv3 = slim.repeat(pool2, 3, slim.conv2d, 256, [3, 3], scope = 'conv3')\n",
    "    tensor_info(conv3)\n",
    "    pool3 = slim.max_pool2d(conv3, [2, 2], scope = 'pool3', padding = 'SAME')\n",
    "    tensor_info(pool3)\n",
    "    \n",
    "    conv4 = slim.repeat(pool3, 3, slim.conv2d, 512, [3, 3], scope = 'conv4')\n",
    "    tensor_info(conv4)\n",
    "    pool4 = slim.max_pool2d(conv4, [2, 2], scope = 'pool4', padding = 'SAME')\n",
    "    tensor_info(pool4)\n",
    "    \n",
    "    conv5 = slim.repeat(pool4, 3, slim.conv2d, 1024, [3, 3], scope = 'conv5')\n",
    "    tensor_info(conv5)\n",
    "    \n",
    "    conv6 = slim.conv2d(conv5, 1024, [3, 3], scope = 'conv6')\n",
    "    tensor_info(conv6)\n",
    "    \n",
    "    conv7 = slim.conv2d(conv6, 1024, [1, 1], scope = 'conv7')\n",
    "    tensor_info(conv7)\n",
    "    \n",
    "    conv8_1 = slim.conv2d(conv7, 256, [1, 1], scope = 'conv8_1')\n",
    "    conv8_2 = slim.conv2d(conv8_1, 512, [3, 3], stride = 2, scope = 'conv8_2')\n",
    "    tensor_info(conv8_2)\n",
    "    \n",
    "    conv9_1 = slim.conv2d(conv8_2, 128, [1, 1], scope = 'conv9_1')\n",
    "    conv9_2 = slim.conv2d(conv9_1, 256, [3, 3], stride = 2, scope = 'conv9_2')\n",
    "    tensor_info(conv9_2)\n",
    "    \n",
    "    conv10_1 = slim.conv2d(conv9_2, 128, [1, 1], scope = 'conv10_1')\n",
    "    conv10_2 = slim.conv2d(conv10_1, 256, [3, 3], stride = 1, padding = 'VALID', scope = 'conv10_2')\n",
    "    tensor_info(conv10_2)\n",
    "    \n",
    "    conv11_1 = slim.conv2d(conv10_2, 128, [1, 1], scope = 'conv11_1')\n",
    "    conv11_2 = slim.conv2d(conv11_1, 256, [3, 3], stride = 1, padding = 'VALID', scope = 'conv11_2')\n",
    "    tensor_info(conv11_2)\n",
    "    \n",
    "    \n",
    "    \"Extra Feature Layers\"\n",
    "    print(\"----------------- Extra Feature Layers -----------------\")\n",
    "    classifier_1 = slim.conv2d(conv4, 4 * num_of_classes, [3, 3], weights_regularizer = slim.l2_regularizer(l2_penalty), scope = 'clf_1')\n",
    "    detector_1 = slim.conv2d(conv4, 4 * 4, [3, 3], weights_regularizer = slim.l2_regularizer(l2_penalty), scope = 'dtt_1')\n",
    "    tensor_info(classifier_1)\n",
    "    tensor_info(detector_1)\n",
    "    \n",
    "    classifier_2 = slim.conv2d(conv7, 6 * num_of_classes, [3, 3], scope = 'clf_2')\n",
    "    detector_2 = slim.conv2d(conv7, 6 * 4, [3, 3], scope = 'dtt_2')\n",
    "    tensor_info(classifier_2)\n",
    "    tensor_info(detector_2)\n",
    "    \n",
    "    classifier_3 = slim.conv2d(conv8_2, 6 * num_of_classes, [3, 3], scope = 'clf_3')\n",
    "    detector_3 = slim.conv2d(conv8_2, 6 * 4, [3, 3], scope = 'dtt_3')\n",
    "    tensor_info(classifier_3)\n",
    "    tensor_info(detector_3)\n",
    "    \n",
    "    classifier_4 = slim.conv2d(conv9_2, 6 * num_of_classes, [3, 3], scope = 'clf_4')\n",
    "    detector_4 = slim.conv2d(conv9_2, 6 * 4, [3, 3], scope = 'dtt_4')\n",
    "    tensor_info(classifier_4)\n",
    "    tensor_info(detector_4)\n",
    "    \n",
    "    classifier_5 = slim.conv2d(conv10_2, 4 * num_of_classes, [3, 3], scope = 'clf_5')\n",
    "    detector_5 = slim.conv2d(conv10_2, 4 * 4, [3, 3], scope = 'dtt_5')\n",
    "    tensor_info(classifier_5)\n",
    "    tensor_info(detector_5)\n",
    "    \n",
    "    classifier_6 = slim.conv2d(conv11_2, 4 * num_of_classes, [3, 3], scope = 'clf_6')\n",
    "    detector_6 = slim.conv2d(conv11_2, 4 * 4, [3, 3], scope = 'dtt_6')\n",
    "    tensor_info(classifier_6)\n",
    "    tensor_info(detector_6)\n",
    "    \n",
    "    total_parameters = np.sum([np.prod(var.get_shape().as_list()) for var in tf.trainable_variables()])\n",
    "    print(\"\\n  => Number of Weights : \" + format(total_parameters, ','))"
   ]
  },
  {
   "cell_type": "code",
   "execution_count": 6,
   "metadata": {
    "scrolled": false
   },
   "outputs": [
    {
     "name": "stdout",
     "output_type": "stream",
     "text": [
      "--------------------- Conv Layers ---------------------\n",
      "    conv1_2/Relu:0      |   shape = (?, 300, 300, 64)\n",
      "    pool1/MaxPool:0     |   shape = (?, 150, 150, 64)\n",
      " conv2/conv2_2/Relu:0   |   shape = (?, 150, 150, 128)\n",
      "    pool2/MaxPool:0     |   shape = (?, 75, 75, 128)\n",
      " conv3/conv3_3/Relu:0   |   shape = (?, 75, 75, 256)\n",
      "    pool3/MaxPool:0     |   shape = (?, 38, 38, 256)\n",
      " conv4/conv4_3/Relu:0   |   shape = (?, 38, 38, 512)\n",
      "    pool4/MaxPool:0     |   shape = (?, 19, 19, 512)\n",
      " conv5/conv5_3/Relu:0   |   shape = (?, 19, 19, 1024)\n",
      "     conv6/Relu:0       |   shape = (?, 19, 19, 1024)\n",
      "     conv7/Relu:0       |   shape = (?, 19, 19, 1024)\n",
      "    conv8_2/Relu:0      |   shape = (?, 10, 10, 512)\n",
      "    conv9_2/Relu:0      |   shape = (?, 5, 5, 256)\n",
      "    conv10_2/Relu:0     |   shape = (?, 3, 3, 256)\n",
      "    conv11_2/Relu:0     |   shape = (?, 1, 1, 256)\n",
      "----------------- Extra Feature Layers -----------------\n",
      "     clf_1/Relu:0       |   shape = (?, 38, 38, 84)\n",
      "     dtt_1/Relu:0       |   shape = (?, 38, 38, 16)\n",
      "     clf_2/Relu:0       |   shape = (?, 19, 19, 126)\n",
      "     dtt_2/Relu:0       |   shape = (?, 19, 19, 24)\n",
      "     clf_3/Relu:0       |   shape = (?, 10, 10, 126)\n",
      "     dtt_3/Relu:0       |   shape = (?, 10, 10, 24)\n",
      "     clf_4/Relu:0       |   shape = (?, 5, 5, 126)\n",
      "     dtt_4/Relu:0       |   shape = (?, 5, 5, 24)\n",
      "     clf_5/Relu:0       |   shape = (?, 3, 3, 84)\n",
      "     dtt_5/Relu:0       |   shape = (?, 3, 3, 16)\n",
      "     clf_6/Relu:0       |   shape = (?, 1, 1, 84)\n",
      "     dtt_6/Relu:0       |   shape = (?, 1, 1, 16)\n",
      "\n",
      "  => Number of Weights : 47,520,174\n"
     ]
    }
   ],
   "source": [
    "ssd(image, num_of_classes, l2_penalty)"
   ]
  }
 ],
 "metadata": {
  "kernelspec": {
   "display_name": "Python 3",
   "language": "python",
   "name": "python3"
  },
  "language_info": {
   "codemirror_mode": {
    "name": "ipython",
    "version": 3
   },
   "file_extension": ".py",
   "mimetype": "text/x-python",
   "name": "python",
   "nbconvert_exporter": "python",
   "pygments_lexer": "ipython3",
   "version": "3.6.3"
  }
 },
 "nbformat": 4,
 "nbformat_minor": 2
}
