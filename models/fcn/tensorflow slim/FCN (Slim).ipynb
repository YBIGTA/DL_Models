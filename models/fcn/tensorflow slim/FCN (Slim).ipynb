{
 "cells": [
  {
   "cell_type": "markdown",
   "metadata": {},
   "source": [
    "<img src=\"fcn_model.png\">"
   ]
  },
  {
   "cell_type": "markdown",
   "metadata": {},
   "source": [
    "Reference 1 : https://github.com/shekkizh/FCN.tensorflow/blob/master/FCN.py\n",
    "<br>Reference 2 : https://modulabs-biomedical.github.io/FCN\n",
    "<br>Reference 3 : https://stackoverflow.com/questions/38160940/how-to-count-total-number-of-trainable-parameters-in-a-tensorflow-model"
   ]
  },
  {
   "cell_type": "code",
   "execution_count": 1,
   "metadata": {},
   "outputs": [
    {
     "name": "stderr",
     "output_type": "stream",
     "text": [
      "C:\\Users\\user\\Anaconda3\\Anaconda\\lib\\site-packages\\h5py\\__init__.py:34: FutureWarning: Conversion of the second argument of issubdtype from `float` to `np.floating` is deprecated. In future, it will be treated as `np.float64 == np.dtype(float).type`.\n",
      "  from ._conv import register_converters as _register_converters\n"
     ]
    }
   ],
   "source": [
    "import tensorflow as tf\n",
    "import numpy as np\n",
    "import tensorflow.contrib.slim as slim"
   ]
  },
  {
   "cell_type": "code",
   "execution_count": 2,
   "metadata": {
    "collapsed": true
   },
   "outputs": [],
   "source": [
    "# image size\n",
    "\n",
    "height = 224\n",
    "width = 224\n",
    "num_of_channels = 3\n",
    "num_of_classes = 21\n",
    "\n",
    "keep_prob = 0.5"
   ]
  },
  {
   "cell_type": "code",
   "execution_count": 3,
   "metadata": {
    "collapsed": true
   },
   "outputs": [],
   "source": [
    "image = tf.placeholder(tf.float32, [None, height, width, num_of_channels])"
   ]
  },
  {
   "cell_type": "code",
   "execution_count": 4,
   "metadata": {
    "collapsed": true
   },
   "outputs": [],
   "source": [
    "def fcn8(image, num_of_classes, keep_prob):\n",
    "    \n",
    "    \"Feature Extraction\"\n",
    "    # output shape = [None, H/2, H/2, 96]\n",
    "    conv1 = slim.conv2d(image, 96, [3, 3], scope = 'conv1_1')\n",
    "        # (3*3*3 + 1) * 96 = 2,688 (Number of Weights)\n",
    "    conv1 = slim.conv2d(conv1, 96, [3, 3], scope = 'conv1_2')\n",
    "        # (3*3*96 + 1) * 96 = 83,040\n",
    "    pool1 = slim.max_pool2d(conv1, [2, 2], scope = 'pool1', padding = 'SAME') \n",
    "    \n",
    "    # output shape = [None, H/4, H/4, 256]\n",
    "    conv2 = slim.repeat(pool1, 2, slim.conv2d, 256, [3, 3], scope = 'conv2')\n",
    "        # (3*3*96 + 1) * 256 + (3*3*256 + 1) * 256 = 811,520\n",
    "    pool2 = slim.max_pool2d(conv2, [2, 2], scope = 'pool2')\n",
    "    \n",
    "    # output shape = [None, H/8, H/8, 384]\n",
    "    conv3 = slim.repeat(pool2, 3, slim.conv2d, 384, [3, 3], scope = 'conv3')\n",
    "        # (3*3*256 + 1) * 384 + (3*3*384 + 1) * 384 * 2 = 3,540,096\n",
    "    pool3 = slim.max_pool2d(conv3, [2, 2], scope = 'pool3', padding = 'SAME')\n",
    "    \n",
    "    # output shape = [None, H/16, H/16, 384]\n",
    "    conv4 = slim.repeat(pool3, 3, slim.conv2d, 384, [3, 3], scope = 'conv4')\n",
    "        # (3*3*384 + 1) * 384 * 3 = 3,982,464\n",
    "    pool4 = slim.max_pool2d(conv4, [2, 2], scope = 'pool4', padding = 'SAME')\n",
    "    \n",
    "    # output shape = [None, H/32, H/32, 256]\n",
    "    conv5 = slim.repeat(pool4, 3, slim.conv2d, 256, [3, 3], scope = 'conv5')\n",
    "        # (3*3*384 + 1) * 256 + (3*3*256 + 1) * 256 * 2 = 2,065,152\n",
    "    pool5 = slim.max_pool2d(conv5, [2, 2], scope = 'pool5', padding = 'SAME')\n",
    "    \n",
    "    \n",
    "    \"Feature-level Classificaiton\"\n",
    "    # output shape = [None, H/32, H/32, 4096]\n",
    "    conv6 = slim.conv2d(pool5, 4096, [7, 7], scope = 'conv6')\n",
    "        # (7*7*256 + 1) * 4,096 = 51,384,320\n",
    "    conv6 = tf.nn.dropout(conv6, keep_prob = keep_prob)\n",
    "    \n",
    "    # output shape = [None, H/32, H/32, 4096]\n",
    "    conv7 = slim.conv2d(conv6, 4096, [1, 1], scope = 'conv7')\n",
    "        # (1*1*4,096 + 1) * 4,096 = 16,781,312\n",
    "    conv7 = tf.nn.dropout(conv7, keep_prob = keep_prob)\n",
    "    \n",
    "    # output shape = [None, H/32, H/32, num_of_classes]\n",
    "    conv8 = slim.conv2d(conv7, num_of_classes, [1, 1], scope = 'conv8')\n",
    "        # (1*1*4,096 + 1) * 21(num_of_classes) = 86,037\n",
    "    \n",
    "    \n",
    "    \"Upsampling\"\n",
    "    conv_t1 = slim.conv2d_transpose(conv8, num_outputs = pool4.get_shape()[3], kernel_size = [4, 4], stride = 2)\n",
    "        # (4*4*21 + 1) * 384 = 129,408\n",
    "    fuse_1 = tf.add(conv_t1, pool4, name = 'fuse_1')\n",
    "    \n",
    "    conv_t2 = slim.conv2d_transpose(fuse_1, num_outputs = pool3.get_shape()[3], kernel_size = 4, stride = 2) \n",
    "        # (4*4*384 + 1) * 384 = 2,359,680\n",
    "    fuse_2 = tf.add(conv_t2, pool3, name = 'fuse_2')\n",
    "    \n",
    "    conv_t3 = slim.conv2d_transpose(fuse_2, num_outputs = num_of_channels, kernel_size = 16, stride = 8)\n",
    "        # (16*16*384 + 1) * 3 = 294,915\n",
    "    \n",
    "    \n",
    "    \"Segmentation\"\n",
    "    annotation_pred = tf.argmax(conv_t3, dimension = num_of_channels, name=\"prediction\")\n",
    "    \n",
    "    return tf.expand_dims(annotation_pred, dim = num_of_channels)"
   ]
  },
  {
   "cell_type": "code",
   "execution_count": 5,
   "metadata": {
    "collapsed": true
   },
   "outputs": [],
   "source": [
    "fcn8 = fcn8(image, num_of_classes, keep_prob)"
   ]
  },
  {
   "cell_type": "code",
   "execution_count": 6,
   "metadata": {
    "scrolled": true
   },
   "outputs": [
    {
     "name": "stdout",
     "output_type": "stream",
     "text": [
      "The Output Shape : (?, 224, 224, 1)\n"
     ]
    }
   ],
   "source": [
    "print(\"The Output Shape : \" + str(fcn8.shape))"
   ]
  },
  {
   "cell_type": "code",
   "execution_count": 11,
   "metadata": {},
   "outputs": [
    {
     "name": "stdout",
     "output_type": "stream",
     "text": [
      "Number of Weights : 81,520,632\n"
     ]
    }
   ],
   "source": [
    "total_parameters = 0\n",
    "for variable in tf.trainable_variables():\n",
    "    # shape is an array of tf.Dimension\n",
    "    shape = variable.get_shape()\n",
    "    variable_parameters = 1\n",
    "    for dim in shape:\n",
    "        variable_parameters *= dim.value\n",
    "    total_parameters += variable_parameters\n",
    "print(\"Number of Weights : \" + format(total_parameters, ','))"
   ]
  }
 ],
 "metadata": {
  "kernelspec": {
   "display_name": "Python 3",
   "language": "python",
   "name": "python3"
  },
  "language_info": {
   "codemirror_mode": {
    "name": "ipython",
    "version": 3
   },
   "file_extension": ".py",
   "mimetype": "text/x-python",
   "name": "python",
   "nbconvert_exporter": "python",
   "pygments_lexer": "ipython3",
   "version": "3.6.3"
  }
 },
 "nbformat": 4,
 "nbformat_minor": 2
}
